{
 "cells": [
  {
   "attachments": {},
   "cell_type": "markdown",
   "id": "36991cf3-b6a7-48d2-9760-66d6dadeb34a",
   "metadata": {},
   "source": [
    "# PlateShuttle Control Python Scripts\n",
    "## Version. 1.1\n",
    "### Written by Hiroki Noguchi, RIKEN\n",
    "\n",
    "***"
   ]
  },
  {
   "cell_type": "markdown",
   "id": "32a1f33c-8511-4870-96c6-3619b9348aab",
   "metadata": {},
   "source": [
    "- Ver.1.0: Initial Version.\n",
    "- Ver.1.1: Functions --> Class\n",
    "\n",
    "***"
   ]
  },
  {
   "cell_type": "markdown",
   "id": "ba57d348-3c3e-4ceb-a3ef-eaff31c9ba10",
   "metadata": {},
   "source": [
    "## Class"
   ]
  },
  {
   "cell_type": "code",
   "execution_count": 1,
   "id": "6d8083ab-8c53-496c-8c8d-806eb08a09a9",
   "metadata": {},
   "outputs": [],
   "source": [
    "class SBSPlateToByonoyTransV2Dev:\n",
    "    \n",
    "    def __init__(self, USBDevLoc, initPos, ByonoyInPos):\n",
    "        self.USBDevLoc = USBDevLoc ## USB device path\n",
    "        # zero position is x=0. You can select x= -1.0 ~ -190.0 (mm)\n",
    "        self.initPos = initPos ## initPos (OT2 pipetting position), mm\n",
    "        self.ByonoyInPos = ByonoyInPos ## ByonoyInPos (Load into Byonoy), mm\n",
    "        \n",
    "    \n",
    "    # func: Connect grbl (ConnectSBSPlateToByonoyTransV2Dev)\n",
    "    def connect(self):\n",
    "        import serial\n",
    "        import time\n",
    "        print ('Connect SBS Plate To Byonoy Trans V2 Device ...')\n",
    "        # global ser\n",
    "        self.ser=serial.Serial(self.USBDevLoc, 115200)\n",
    "        print ('Wakeup the device...')\n",
    "        self.ser.write(b\"\\r\\n\\r\\n\")\n",
    "        time.sleep(2)   # Wait for grbl to initialize \n",
    "        self.ser.write(b\"$X\\r\\n\\r\\n\") #Unlock grbl\n",
    "        time.sleep(0.5)\n",
    "        self.ser.flushInput()  # Flush startup text in serial input\n",
    "        print(\"Wakeup the device done.\")\n",
    "    \n",
    "    # func: dis-connect grbl\n",
    "    def disconnect(self):\n",
    "        self.ser.close()\n",
    "        print(\"The SBS plate to byonoy trans v2 device is disconnected.\")\n",
    "\n",
    "    # func: homing\n",
    "    def homing(self):\n",
    "        import time\n",
    "        import re\n",
    "        print(\"Homing Cycle start...\")\n",
    "        self.ser.write(bytes(\"$H \\n\", 'UTF-8'))\n",
    "        a=0\n",
    "        while a == 0:\n",
    "            line = self.ser.readline()\n",
    "            line_str = str(line.decode('UTF-8'))\n",
    "            if 'ok' in line_str:\n",
    "                a=1\n",
    "            time.sleep(0.1)\n",
    "        print(\"-> Done.\")\n",
    "\n",
    "    # func: move\n",
    "    def move(self, x):\n",
    "        import time\n",
    "        import re\n",
    "        print(\"Move: \" + \"X,\" + str(x))\n",
    "        self.ser.write(bytes(\"G0 \" + \"X \" + str(x) + \"\\n\", 'UTF-8'))\n",
    "        line= self.ser.readline()\n",
    "        a = 0\n",
    "        while a == 0:\n",
    "            line = self.ser.write(bytes(\"?\", 'UTF-8'))\n",
    "            time.sleep(0.1)\n",
    "            line = self.ser.readline()\n",
    "            line_list = re.findall('[0-9]{1,4}.[0-9]{3}', line.decode('UTF-8'))\n",
    "            if float(line_list[0]) == -x:\n",
    "                a=1\n",
    "            time.sleep(0.02)\n",
    "        print(\" -> Done.\")\n",
    "    \n",
    "    # func: move to initPos\n",
    "    def pipettingPos(self):\n",
    "        self.move(self.initPos)\n",
    "\n",
    "    # func: move to ByonoyInPos\n",
    "    def ByonoyPos(self):\n",
    "        self.move(self.ByonoyInPos)"
   ]
  },
  {
   "attachments": {},
   "cell_type": "markdown",
   "id": "58845812-54fc-458b-aeb6-3a83238016e3",
   "metadata": {},
   "source": [
    "## Python Scripts (Step-by-Step, Manual)"
   ]
  },
  {
   "cell_type": "code",
   "execution_count": 5,
   "id": "cba573d5-155f-41cc-bb5f-9057f3c06753",
   "metadata": {},
   "outputs": [
    {
     "name": "stdout",
     "output_type": "stream",
     "text": [
      "/dev/cu.usbmodem11201\n"
     ]
    }
   ],
   "source": [
    "# 0. Setting and call SBS plate to byonoy trans v2 dev class\n",
    "\n",
    "theDevice = SBSPlateToByonoyTransV2Dev(\"/dev/cu.usbmodem11201\", -2, -136)\n",
    "print(theDevice.USBDevLoc)"
   ]
  },
  {
   "cell_type": "code",
   "execution_count": 6,
   "id": "eaac1525-d9cc-47d0-8c0c-dd36791d7cba",
   "metadata": {},
   "outputs": [
    {
     "name": "stdout",
     "output_type": "stream",
     "text": [
      "Connect SBS Plate To Byonoy Trans V2 Device ...\n",
      "Wakeup the device...\n",
      "Wakeup the device done.\n"
     ]
    }
   ],
   "source": [
    "# 1. connect the device system.\n",
    "theDevice.connect()"
   ]
  },
  {
   "cell_type": "code",
   "execution_count": 7,
   "id": "6ee1a992-583c-4d19-9609-9bd88b45fab8",
   "metadata": {},
   "outputs": [
    {
     "name": "stdout",
     "output_type": "stream",
     "text": [
      "Homing Cycle start...\n",
      "-> Done.\n"
     ]
    }
   ],
   "source": [
    "# 2. Homing. it is needed when the system start.\n",
    "theDevice.homing()"
   ]
  },
  {
   "cell_type": "code",
   "execution_count": 10,
   "id": "abfc6a52-59ba-4662-85d4-e76080ff5887",
   "metadata": {
    "tags": []
   },
   "outputs": [
    {
     "name": "stdout",
     "output_type": "stream",
     "text": [
      "Move: X,-2\n",
      " -> Done.\n"
     ]
    }
   ],
   "source": [
    "# 3-1. Move to initPos (OT2 pipetting position).\n",
    "theDevice.pipettingPos()"
   ]
  },
  {
   "cell_type": "code",
   "execution_count": 23,
   "id": "467d7ff0-cfa9-4460-b553-1b58ea136f1f",
   "metadata": {},
   "outputs": [
    {
     "name": "stdout",
     "output_type": "stream",
     "text": [
      "Move: X,-190\n",
      " -> Done.\n"
     ]
    }
   ],
   "source": [
    "# 3-3. Move x mm.\n",
    "theDevice.move(-190)"
   ]
  },
  {
   "cell_type": "code",
   "execution_count": 9,
   "id": "f5788900-4d43-490b-948d-aea7af29c885",
   "metadata": {
    "tags": []
   },
   "outputs": [
    {
     "name": "stdout",
     "output_type": "stream",
     "text": [
      "Move: X,-136\n",
      " -> Done.\n"
     ]
    }
   ],
   "source": [
    "# 3-2. ByonoyInPos (Load into Byonoy)\n",
    "theDevice.ByonoyPos()"
   ]
  },
  {
   "cell_type": "code",
   "execution_count": 11,
   "id": "36156915-0628-40b4-9d9f-d2ce7994570a",
   "metadata": {},
   "outputs": [
    {
     "name": "stdout",
     "output_type": "stream",
     "text": [
      "The SBS plate to byonoy trans v2 device is disconnected.\n"
     ]
    }
   ],
   "source": [
    "# End. Dis-connect the device system.\n",
    "theDevice.disconnect()"
   ]
  },
  {
   "attachments": {},
   "cell_type": "markdown",
   "id": "615411d2-0802-4eec-ba4b-cb4de6a0898d",
   "metadata": {},
   "source": [
    "## Test Run"
   ]
  },
  {
   "cell_type": "code",
   "execution_count": null,
   "id": "28f2e163-6445-4b83-8277-36d7b333747f",
   "metadata": {
    "scrolled": true,
    "tags": []
   },
   "outputs": [],
   "source": [
    "# 0. Setting and call SBS plate to byonoy trans v2 dev class\n",
    "\n",
    "theDevice = SBSPlateToByonoyTransV2Dev(\"/dev/cu.usbmodem1101\", -2, -136)\n",
    "print(theDevice.USBDevLoc)\n",
    "\n",
    "# 1. connect the device system.\n",
    "theDevice.connect()\n",
    "\n",
    "# 2. Homing. it is needed when the system start.\n",
    "theDevice.homing()\n",
    "\n",
    "\n",
    "for i in range(1,101):\n",
    "    print(f\"Test: No,{i} **********\")\n",
    "    # 3-1. Move to initPos (OT2 pipetting position).\n",
    "    theDevice.pipettingPos()\n",
    "    # 3-2. ByonoyInPos (Load into Byonoy)\n",
    "    theDevice.ByonoyPos()\n",
    "\n",
    "\n",
    "theDevice.pipettingPos()\n",
    "    \n",
    "# End. Dis-connect the device system.\n",
    "theDevice.disconnect()"
   ]
  },
  {
   "cell_type": "markdown",
   "id": "ebd01280-7fb9-4ce3-93c2-0b071d8cf8ac",
   "metadata": {},
   "source": [
    "#### "
   ]
  },
  {
   "cell_type": "code",
   "execution_count": null,
   "id": "16a9e10a-1ded-4b6f-805c-dbfa47c1a5ae",
   "metadata": {},
   "outputs": [],
   "source": []
  }
 ],
 "metadata": {
  "kernelspec": {
   "display_name": "Python 3 (ipykernel)",
   "language": "python",
   "name": "python3"
  },
  "language_info": {
   "codemirror_mode": {
    "name": "ipython",
    "version": 3
   },
   "file_extension": ".py",
   "mimetype": "text/x-python",
   "name": "python",
   "nbconvert_exporter": "python",
   "pygments_lexer": "ipython3",
   "version": "3.9.15"
  }
 },
 "nbformat": 4,
 "nbformat_minor": 5
}
